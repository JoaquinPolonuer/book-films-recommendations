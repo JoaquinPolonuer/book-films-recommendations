{
 "cells": [
  {
   "cell_type": "code",
   "execution_count": 1,
   "metadata": {},
   "outputs": [],
   "source": [
    "import pandas as pd"
   ]
  },
  {
   "cell_type": "code",
   "execution_count": 115,
   "metadata": {},
   "outputs": [],
   "source": [
    "books_raw = pd.read_csv(\"datasets/books.csv\")\n",
    "books = books_raw.drop([\"best_book_id\", \"work_id\", \"isbn\", \"isbn13\", \"original_title\", \"books_count\", \"work_text_reviews_count\"], axis = 1)\n",
    "books = books.drop([\"work_ratings_count\", \"ratings_1\", \"ratings_2\", \"ratings_3\", \"ratings_4\", \"ratings_5\", \"small_image_url\"], axis = 1)\n",
    "non_english_books = books[(books[\"language_code\"]!=\"eng\") & (books[\"language_code\"]!=\"en-US\") & (books[\"language_code\"]!=\"en-CA\") & (books[\"language_code\"]!=\"en-GB\")]\n",
    "english_books = books[(books[\"language_code\"] ==\"eng\") | (books[\"language_code\"] ==\"en-US\")| (books[\"language_code\"] ==\"en-CA\") | (books[\"language_code\"]==\"en-GB\")]\n",
    "english_books = books.drop([\"language_code\"], axis = 1)"
   ]
  },
  {
   "cell_type": "code",
   "execution_count": 116,
   "metadata": {},
   "outputs": [],
   "source": [
    "books_tags = pd.read_csv(\"datasets/book_tags.csv\")\n",
    "tags = pd.read_csv(\"datasets/tags.csv\")"
   ]
  },
  {
   "cell_type": "code",
   "execution_count": null,
   "metadata": {},
   "outputs": [],
   "source": []
  },
  {
   "cell_type": "code",
   "execution_count": null,
   "metadata": {},
   "outputs": [],
   "source": []
  }
 ],
 "metadata": {
  "kernelspec": {
   "display_name": "Python 3",
   "language": "python",
   "name": "python3"
  },
  "language_info": {
   "codemirror_mode": {
    "name": "ipython",
    "version": 3
   },
   "file_extension": ".py",
   "mimetype": "text/x-python",
   "name": "python",
   "nbconvert_exporter": "python",
   "pygments_lexer": "ipython3",
   "version": "3.8.5"
  }
 },
 "nbformat": 4,
 "nbformat_minor": 4
}
