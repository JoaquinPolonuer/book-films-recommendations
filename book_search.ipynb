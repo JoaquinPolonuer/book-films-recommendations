{
 "cells": [
  {
   "cell_type": "code",
   "execution_count": 2,
   "source": [
    "import pandas as pd"
   ],
   "outputs": [],
   "metadata": {}
  },
  {
   "cell_type": "code",
   "execution_count": 3,
   "source": [
    "\n",
    "def get_datasets(base_dir):\n",
    "    books = pd.read_csv(base_dir+\"/books.csv\")\n",
    "    book_tags = pd.read_csv(base_dir+\"/book_tags.csv\")\n",
    "    ratings = pd.read_csv(base_dir+\"/ratings.csv\")\n",
    "    tags = pd.read_csv(base_dir+\"/tags.csv\")\n",
    "    to_read = pd.read_csv(base_dir+\"/to_read.csv\")\n",
    "    return (books, book_tags, ratings, tags, to_read)"
   ],
   "outputs": [],
   "metadata": {}
  },
  {
   "cell_type": "code",
   "execution_count": 63,
   "source": [
    "def get_books_from_titles(titles):\n",
    "    matches = []\n",
    "    for title in titles:\n",
    "        match = books[books[\"title_lowercase\"].str.contains(title.lower())]\n",
    "        matches.append(match)\n",
    "    return matches"
   ],
   "outputs": [],
   "metadata": {}
  },
  {
   "cell_type": "code",
   "execution_count": 68,
   "source": [
    "goodbooks_dataset_path = \"/home/joacopolo/Documents/software/python/draft-projects/books-recommender/goodbooks-10k\"\n",
    "books, book_tags, ratings, tags, to_read = get_datasets(goodbooks_dataset_path)\n",
    "books[\"title_lowercase\"] = books[\"title\"].str.lower()\n",
    "book_titles = [\"siddhartha\", \"demian\", \"dune\", \"brief history of time\"]"
   ],
   "outputs": [],
   "metadata": {}
  },
  {
   "cell_type": "code",
   "execution_count": 69,
   "source": [
    "matches = get_books_from_titles(book_titles)"
   ],
   "outputs": [],
   "metadata": {}
  },
  {
   "cell_type": "code",
   "execution_count": 71,
   "source": [
    "matches[3]"
   ],
   "outputs": [
    {
     "output_type": "execute_result",
     "data": {
      "text/plain": [
       "     book_id  goodreads_book_id  best_book_id  work_id  books_count  \\\n",
       "438      439               3869          3869  2192250          246   \n",
       "\n",
       "          isbn        isbn13                                   authors  \\\n",
       "438  553380168  9.780553e+12  Stephen Hawking, Cao Chi, Phạm Văn Thiều   \n",
       "\n",
       "     original_publication_year  \\\n",
       "438                     1987.0   \n",
       "\n",
       "                                        original_title  ...  \\\n",
       "438  A Brief History of Time: From the Big Bang to ...  ...   \n",
       "\n",
       "    work_ratings_count work_text_reviews_count  ratings_1  ratings_2  \\\n",
       "438             181410                    5146       2487       6028   \n",
       "\n",
       "     ratings_3  ratings_4  ratings_5  \\\n",
       "438      30632      70364      71899   \n",
       "\n",
       "                                             image_url  \\\n",
       "438  https://images.gr-assets.com/books/1333578746m...   \n",
       "\n",
       "                                       small_image_url  \\\n",
       "438  https://images.gr-assets.com/books/1333578746s...   \n",
       "\n",
       "             title_lowercase  \n",
       "438  a brief history of time  \n",
       "\n",
       "[1 rows x 24 columns]"
      ],
      "text/html": [
       "<div>\n",
       "<style scoped>\n",
       "    .dataframe tbody tr th:only-of-type {\n",
       "        vertical-align: middle;\n",
       "    }\n",
       "\n",
       "    .dataframe tbody tr th {\n",
       "        vertical-align: top;\n",
       "    }\n",
       "\n",
       "    .dataframe thead th {\n",
       "        text-align: right;\n",
       "    }\n",
       "</style>\n",
       "<table border=\"1\" class=\"dataframe\">\n",
       "  <thead>\n",
       "    <tr style=\"text-align: right;\">\n",
       "      <th></th>\n",
       "      <th>book_id</th>\n",
       "      <th>goodreads_book_id</th>\n",
       "      <th>best_book_id</th>\n",
       "      <th>work_id</th>\n",
       "      <th>books_count</th>\n",
       "      <th>isbn</th>\n",
       "      <th>isbn13</th>\n",
       "      <th>authors</th>\n",
       "      <th>original_publication_year</th>\n",
       "      <th>original_title</th>\n",
       "      <th>...</th>\n",
       "      <th>work_ratings_count</th>\n",
       "      <th>work_text_reviews_count</th>\n",
       "      <th>ratings_1</th>\n",
       "      <th>ratings_2</th>\n",
       "      <th>ratings_3</th>\n",
       "      <th>ratings_4</th>\n",
       "      <th>ratings_5</th>\n",
       "      <th>image_url</th>\n",
       "      <th>small_image_url</th>\n",
       "      <th>title_lowercase</th>\n",
       "    </tr>\n",
       "  </thead>\n",
       "  <tbody>\n",
       "    <tr>\n",
       "      <th>438</th>\n",
       "      <td>439</td>\n",
       "      <td>3869</td>\n",
       "      <td>3869</td>\n",
       "      <td>2192250</td>\n",
       "      <td>246</td>\n",
       "      <td>553380168</td>\n",
       "      <td>9.780553e+12</td>\n",
       "      <td>Stephen Hawking, Cao Chi, Phạm Văn Thiều</td>\n",
       "      <td>1987.0</td>\n",
       "      <td>A Brief History of Time: From the Big Bang to ...</td>\n",
       "      <td>...</td>\n",
       "      <td>181410</td>\n",
       "      <td>5146</td>\n",
       "      <td>2487</td>\n",
       "      <td>6028</td>\n",
       "      <td>30632</td>\n",
       "      <td>70364</td>\n",
       "      <td>71899</td>\n",
       "      <td>https://images.gr-assets.com/books/1333578746m...</td>\n",
       "      <td>https://images.gr-assets.com/books/1333578746s...</td>\n",
       "      <td>a brief history of time</td>\n",
       "    </tr>\n",
       "  </tbody>\n",
       "</table>\n",
       "<p>1 rows × 24 columns</p>\n",
       "</div>"
      ]
     },
     "metadata": {},
     "execution_count": 71
    }
   ],
   "metadata": {}
  },
  {
   "cell_type": "markdown",
   "source": [],
   "metadata": {}
  }
 ],
 "metadata": {
  "orig_nbformat": 4,
  "language_info": {
   "name": "python",
   "version": "3.8.10",
   "mimetype": "text/x-python",
   "codemirror_mode": {
    "name": "ipython",
    "version": 3
   },
   "pygments_lexer": "ipython3",
   "nbconvert_exporter": "python",
   "file_extension": ".py"
  },
  "kernelspec": {
   "name": "python3",
   "display_name": "Python 3.8.10 64-bit ('venv': venv)"
  },
  "interpreter": {
   "hash": "b1d5d5b14bba2f16f3ef7d9fedee2a5e6a6a3f6ea1e0f49d73b4cddd21a75e82"
  }
 },
 "nbformat": 4,
 "nbformat_minor": 2
}