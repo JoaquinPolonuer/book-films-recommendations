{
 "cells": [
  {
   "cell_type": "code",
   "execution_count": 106,
   "source": [
    "import pandas as pd"
   ],
   "outputs": [],
   "metadata": {}
  },
  {
   "cell_type": "code",
   "execution_count": 107,
   "source": [
    "#PROD\n",
    "books_desc = pd.read_csv(\"goodreads_books.csv\")\n",
    "books_desc[\"goodreads_book_id\"] = books_desc[\"id\"]\n",
    "books = pd.read_csv(\"dataset/books.csv\")\n",
    "\n",
    "books = pd.merge(books, books_desc[[\"goodreads_book_id\",\"description\"]], on=\"goodreads_book_id\", how=\"left\", validate=\"one_to_one\")\n",
    "books = books[books.book_id.isnull()==False]\n",
    "books.to_csv(\"dataset/books_with_desc.csv\", index=False)"
   ],
   "outputs": [],
   "metadata": {}
  },
  {
   "cell_type": "code",
   "execution_count": 110,
   "source": [
    "books = pd.read_csv(\"dataset/books_with_desc.csv\")\n"
   ],
   "outputs": [],
   "metadata": {}
  },
  {
   "cell_type": "code",
   "execution_count": 148,
   "source": [
    "englishes = ['eng', 'en-US', 'en-CA', 'en-GB']\n",
    "non_english_books = books.copy()\n",
    "for lan in englishes:\n",
    "    non_english_books = non_english_books[non_english_books.language_code != lan]\n",
    "non_english_books = non_english_books[non_english_books.language_code.isnull() == False]"
   ],
   "outputs": [],
   "metadata": {}
  },
  {
   "cell_type": "code",
   "execution_count": null,
   "source": [],
   "outputs": [],
   "metadata": {}
  }
 ],
 "metadata": {
  "orig_nbformat": 4,
  "language_info": {
   "name": "python",
   "version": "3.8.10",
   "mimetype": "text/x-python",
   "codemirror_mode": {
    "name": "ipython",
    "version": 3
   },
   "pygments_lexer": "ipython3",
   "nbconvert_exporter": "python",
   "file_extension": ".py"
  },
  "kernelspec": {
   "name": "python3",
   "display_name": "Python 3.8.10 64-bit ('venv': venv)"
  },
  "interpreter": {
   "hash": "b1d5d5b14bba2f16f3ef7d9fedee2a5e6a6a3f6ea1e0f49d73b4cddd21a75e82"
  }
 },
 "nbformat": 4,
 "nbformat_minor": 2
}