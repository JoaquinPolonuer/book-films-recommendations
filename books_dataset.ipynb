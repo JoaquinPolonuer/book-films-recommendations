{
 "cells": [
  {
   "cell_type": "code",
   "execution_count": 1,
   "source": [
    "import pandas as pd\n",
    "import numpy as np"
   ],
   "outputs": [],
   "metadata": {}
  },
  {
   "cell_type": "markdown",
   "source": [
    "Documentation\n",
    "\n",
    "Content based recommendation fundamentals: https://www.linkedin.com/pulse/content-based-recommender-engine-under-hood-venkat-raman \n",
    "\n",
    "Content base recommendation system: https://towardsdatascience.com/building-a-content-based-book-recommendation-engine-9fd4d57a4da\n",
    "\n",
    "Sparse matrix recommendation system: https://towardsdatascience.com/building-my-own-2021-book-recommendation-engine-903ea10d5021\n"
   ],
   "metadata": {}
  },
  {
   "cell_type": "code",
   "execution_count": 3,
   "source": [
    "def get_datasets():\n",
    "    goodbooks_dataset_path = \"/home/joacopolo/Documents/software/python/draft-projects/books-recommender/goodbooks-10k\"\n",
    "    books = pd.read_csv(goodbooks_dataset_path+\"/books.csv\")\n",
    "    book_tags = pd.read_csv(goodbooks_dataset_path+\"/book_tags.csv\")\n",
    "    ratings = pd.read_csv(goodbooks_dataset_path+\"/ratings.csv\")\n",
    "    tags = pd.read_csv(goodbooks_dataset_path+\"/tags.csv\")\n",
    "    to_read = pd.read_csv(goodbooks_dataset_path+\"/to_read.csv\")\n",
    "    return (books, book_tags, ratings, tags, to_read)"
   ],
   "outputs": [],
   "metadata": {}
  },
  {
   "cell_type": "code",
   "execution_count": null,
   "source": [
    "books, book_tags, ratings, tags, to_read = get_datasets()"
   ],
   "outputs": [],
   "metadata": {}
  },
  {
   "cell_type": "code",
   "execution_count": 4,
   "source": [
    "n_users = ratings.user_id.unique().shape[0]\n",
    "n_books = ratings.book_id.unique().shape[0]\n",
    "ratings_matrix = np.zeros((n_users, n_books))\n",
    "\n"
   ],
   "outputs": [],
   "metadata": {}
  },
  {
   "cell_type": "code",
   "execution_count": 5,
   "source": [
    "for row in ratings.itertuples():\n",
    "    # row[1] - 1 is the user id readjusted to start by index 0\n",
    "    # row[2] - 1 is the item id readjusted to start by index 0\n",
    "    ratings_matrix[row[1]-1, row[2]-1] = row[3]\n"
   ],
   "outputs": [],
   "metadata": {}
  },
  {
   "cell_type": "code",
   "execution_count": 14,
   "source": [
    "nonzeros = ratings_matrix.nonzero()\n",
    "    "
   ],
   "outputs": [],
   "metadata": {}
  },
  {
   "cell_type": "code",
   "execution_count": 16,
   "source": [
    "sample_row, sample_col = ratings_matrix.nonzero()"
   ],
   "outputs": [],
   "metadata": {}
  },
  {
   "cell_type": "code",
   "execution_count": 18,
   "source": [
    "#takes sample row and col from the same index and its guaranteed to be non zero\n",
    "n = 1\n",
    "row = sample_row[n] \n",
    "col = sample_col[n]\n",
    "ratings_matrix[row, col]"
   ],
   "outputs": [
    {
     "output_type": "execute_result",
     "data": {
      "text/plain": [
       "4.0"
      ]
     },
     "metadata": {},
     "execution_count": 18
    }
   ],
   "metadata": {}
  },
  {
   "cell_type": "code",
   "execution_count": 19,
   "source": [
    "from SGD import SGDMF"
   ],
   "outputs": [],
   "metadata": {}
  },
  {
   "cell_type": "code",
   "execution_count": 20,
   "source": [
    "sgd = SGDMF(ratings_matrix)"
   ],
   "outputs": [],
   "metadata": {}
  },
  {
   "cell_type": "code",
   "execution_count": 21,
   "source": [
    "sgd.train()"
   ],
   "outputs": [
    {
     "output_type": "stream",
     "name": "stderr",
     "text": [
      "/home/joacopolo/Documents/software/python/draft-projects/books-recommender/book-films-recommendations/SGD.py:47: RuntimeWarning: overflow encountered in multiply\n",
      "  (error * self.user_vecs[u, :] - \\\n",
      "/home/joacopolo/Documents/software/python/draft-projects/books-recommender/book-films-recommendations/SGD.py:44: RuntimeWarning: overflow encountered in multiply\n",
      "  (error * self.item_vecs[i, :] - \\\n"
     ]
    },
    {
     "output_type": "stream",
     "name": "stdout",
     "text": [
      "Finished epoch 1 of 10\n",
      "Finished epoch 2 of 10\n",
      "Finished epoch 3 of 10\n",
      "Finished epoch 4 of 10\n",
      "Finished epoch 5 of 10\n",
      "Finished epoch 6 of 10\n",
      "Finished epoch 7 of 10\n",
      "Finished epoch 8 of 10\n",
      "Finished epoch 9 of 10\n",
      "Finished epoch 10 of 10\n"
     ]
    }
   ],
   "metadata": {}
  },
  {
   "cell_type": "code",
   "execution_count": 22,
   "source": [
    "import pickle\n",
    "with open('sgd_predictor.pkl', 'wb') as sgd_predictor_file:\n",
    "    pickle.dump(sgd, sgd_predictor_file)"
   ],
   "outputs": [],
   "metadata": {}
  },
  {
   "cell_type": "code",
   "execution_count": 28,
   "source": [
    "sgd.user_vecs.shape #returns (53424, 40)\n",
    "sgd.item_vecs.T.shape #returns (40, 10000)\n",
    "ratings_matrix.shape #returns (53424, 10000)\n",
    "\n",
    "#so user_vecs dot (items_vecs transposed) has the shape of the ratings matrix"
   ],
   "outputs": [
    {
     "output_type": "execute_result",
     "data": {
      "text/plain": [
       "(40, 10000)"
      ]
     },
     "metadata": {},
     "execution_count": 28
    }
   ],
   "metadata": {}
  }
 ],
 "metadata": {
  "orig_nbformat": 4,
  "language_info": {
   "name": "python",
   "version": "3.8.10",
   "mimetype": "text/x-python",
   "codemirror_mode": {
    "name": "ipython",
    "version": 3
   },
   "pygments_lexer": "ipython3",
   "nbconvert_exporter": "python",
   "file_extension": ".py"
  },
  "kernelspec": {
   "name": "python3",
   "display_name": "Python 3.8.10 64-bit ('venv': venv)"
  },
  "interpreter": {
   "hash": "b1d5d5b14bba2f16f3ef7d9fedee2a5e6a6a3f6ea1e0f49d73b4cddd21a75e82"
  }
 },
 "nbformat": 4,
 "nbformat_minor": 2
}