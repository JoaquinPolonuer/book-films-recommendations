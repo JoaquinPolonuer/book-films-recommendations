{
 "cells": [
  {
   "cell_type": "code",
   "execution_count": 265,
   "source": [
    "import pandas as pd\n",
    "import numpy as np\n",
    "from SGD import SGDMF\n",
    "import pickle"
   ],
   "outputs": [],
   "metadata": {}
  },
  {
   "cell_type": "markdown",
   "source": [
    "Documentation\n",
    "\n",
    "Content based recommendation fundamentals: https://www.linkedin.com/pulse/content-based-recommender-engine-under-hood-venkat-raman \n",
    "\n",
    "Content base recommendation system: https://towardsdatascience.com/building-a-content-based-book-recommendation-engine-9fd4d57a4da\n",
    "\n",
    "Sparse matrix recommendation system: https://towardsdatascience.com/building-my-own-2021-book-recommendation-engine-903ea10d5021\n"
   ],
   "metadata": {}
  },
  {
   "cell_type": "code",
   "execution_count": 266,
   "source": [
    "def get_datasets():\n",
    "    goodbooks_dataset_path = \"/home/joacopolo/Documents/software/python/draft-projects/books-recommender/goodbooks-10k\"\n",
    "    books = pd.read_csv(goodbooks_dataset_path+\"/books.csv\")\n",
    "    book_tags = pd.read_csv(goodbooks_dataset_path+\"/book_tags.csv\")\n",
    "    ratings = pd.read_csv(goodbooks_dataset_path+\"/ratings.csv\")\n",
    "    tags = pd.read_csv(goodbooks_dataset_path+\"/tags.csv\")\n",
    "    to_read = pd.read_csv(goodbooks_dataset_path+\"/to_read.csv\")\n",
    "    return (books, book_tags, ratings, tags, to_read)\n",
    "\n",
    "books, book_tags, ratings, tags, to_read = get_datasets()\n",
    "\n",
    "n_users = ratings.user_id.unique().shape[0]\n",
    "n_books = ratings.book_id.unique().shape[0]\n",
    "ratings_matrix = np.zeros((n_users, n_books))\n"
   ],
   "outputs": [],
   "metadata": {}
  },
  {
   "cell_type": "code",
   "execution_count": 267,
   "source": [
    "for row in ratings.itertuples():\n",
    "    # row[1] - 1 is the user id readjusted to start by index 0\n",
    "    # row[2] - 1 is the item id readjusted to start by index 0\n",
    "    ratings_matrix[row[1]-1, row[2]-1] = row[3]"
   ],
   "outputs": [],
   "metadata": {}
  },
  {
   "cell_type": "markdown",
   "source": [
    "sample_row, sample_col = ratings_matrix.nonzero()\n",
    "#takes sample row and col from the same index and its guaranteed to be non zero\n",
    "n = 1\n",
    "row = sample_row[n] \n",
    "col = sample_col[n]\n",
    "ratings_matrix[row, col]"
   ],
   "metadata": {}
  },
  {
   "cell_type": "code",
   "execution_count": 268,
   "source": [
    "def new_sgd(ratings):  \n",
    "    sgd = SGDMF(ratings)\n",
    "    return sgd"
   ],
   "outputs": [],
   "metadata": {}
  },
  {
   "cell_type": "code",
   "execution_count": 269,
   "source": [
    "def dump_sgd_to_pickle(sgd):\n",
    "    with open('sgd_predictor.pkl', 'wb') as sgd_predictor_file:\n",
    "        pickle.dump(sgd, sgd_predictor_file)"
   ],
   "outputs": [],
   "metadata": {}
  },
  {
   "cell_type": "code",
   "execution_count": 270,
   "source": [
    "def load_sgd_from_pickle():    \n",
    "    file = open(\"sgd_predictor.pkl\",'rb')\n",
    "    sgd =  pickle.load(file)\n",
    "    return sgd"
   ],
   "outputs": [],
   "metadata": {}
  },
  {
   "cell_type": "code",
   "execution_count": 271,
   "source": [
    "sgd = new_sgd(ratings_matrix)\n",
    "sgd.train()"
   ],
   "outputs": [
    {
     "output_type": "stream",
     "name": "stderr",
     "text": [
      "/home/joacopolo/Documents/software/python/draft-projects/books-recommender/book-films-recommendations/SGD.py:44: RuntimeWarning: overflow encountered in multiply\n",
      "  (error * self.item_vecs[i, :] - \\\n",
      "/home/joacopolo/Documents/software/python/draft-projects/books-recommender/book-films-recommendations/SGD.py:47: RuntimeWarning: overflow encountered in multiply\n",
      "  (error * self.user_vecs[u, :] - \\\n",
      "/home/joacopolo/Documents/software/python/draft-projects/books-recommender/book-films-recommendations/SGD.py:47: RuntimeWarning: invalid value encountered in subtract\n",
      "  (error * self.user_vecs[u, :] - \\\n"
     ]
    },
    {
     "output_type": "stream",
     "name": "stdout",
     "text": [
      "Finished epoch 1 of 10\n",
      "Finished epoch 2 of 10\n",
      "Finished epoch 3 of 10\n",
      "Finished epoch 4 of 10\n",
      "Finished epoch 5 of 10\n",
      "Finished epoch 6 of 10\n",
      "Finished epoch 7 of 10\n",
      "Finished epoch 8 of 10\n",
      "Finished epoch 9 of 10\n",
      "Finished epoch 10 of 10\n"
     ]
    }
   ],
   "metadata": {}
  },
  {
   "cell_type": "code",
   "execution_count": 278,
   "source": [
    "sgd.user_vecs.shape #returns (53424, 40)\n",
    "sgd.item_vecs.T.shape #returns (40, 10000)\n",
    "ratings_matrix.shape #returns (53424, 10000)\n",
    "#so user_vecs dot (items_vecs transposed) has the shape of the ratings matrix"
   ],
   "outputs": [
    {
     "output_type": "execute_result",
     "data": {
      "text/plain": [
       "(53424, 10000)"
      ]
     },
     "metadata": {},
     "execution_count": 278
    }
   ],
   "metadata": {}
  },
  {
   "cell_type": "code",
   "execution_count": 279,
   "source": [
    "sgd.item_vecs[4]"
   ],
   "outputs": [
    {
     "output_type": "execute_result",
     "data": {
      "text/plain": [
       "array([nan, nan, nan, nan, nan, nan, nan, nan, nan, nan, nan, nan, nan,\n",
       "       nan, nan, nan, nan, nan, nan, nan, nan, nan, nan, nan, nan, nan,\n",
       "       nan, nan, nan, nan, nan, nan, nan, nan, nan, nan, nan, nan, nan,\n",
       "       nan])"
      ]
     },
     "metadata": {},
     "execution_count": 279
    }
   ],
   "metadata": {}
  },
  {
   "cell_type": "markdown",
   "source": [
    "# list(books[books[\"book_id\"].isin([1,2])][\"title\"]) returns the name of the books from ids\n",
    "# ratings[ratings[\"user_id\"] == 1] returns the books id and ratings that a user has rated"
   ],
   "metadata": {}
  },
  {
   "cell_type": "code",
   "execution_count": 259,
   "source": [
    "import numpy as np\n",
    "from sklearn.metrics.pairwise import cosine_similarity\n",
    "\n",
    "class BookDataset():\n",
    "    def __init__(self, \n",
    "                 books,\n",
    "                 ratings,\n",
    "                 ratings_matrix,\n",
    "                ):\n",
    "        self.ratings = ratings\n",
    "        self.books = books\n",
    "        self.ratings_matrix = ratings_matrix\n",
    "        self.ratings_dict = {}\n",
    "        self.books[\"title_lowercase\"] = books[\"title\"].str.lower()\n",
    "\n",
    "    def get_book_by_title(self, title):\n",
    "        match = self.books[self.books[\"title_lowercase\"].str.contains(title.lower())]\n",
    "        return match.head(1)\n",
    "\n",
    "    def get_book_by_id(self, book_id):\n",
    "        return self.books[self.books[\"book_id\"]==book_id]\n",
    "\n",
    "    \n",
    "    def rate_book(self, book_id, rating):\n",
    "        self.ratings_dict[book_id] = rating\n",
    "        return self.ratings_dict\n",
    "\n",
    "    def see_ratings_dict(self, ratings_dict = None):\n",
    "        if ratings_dict is None:\n",
    "            ratings_dict = self.ratings_dict\n",
    "        ratings_dict_title = {}\n",
    "        for book_id, rating in ratings_dict.items():\n",
    "            title = self.get_book_by_id(book_id)[\"title\"]\n",
    "            ratings_dict_title[str(title)] = rating\n",
    "        return ratings_dict_title\n",
    "\n",
    "    def generate_ratings_row(self):\n",
    "        ratings_row = np.zeros((n_books))\n",
    "        for book_id, rating in self.ratings_dict.items():\n",
    "            ratings_row[book_id-1] = rating\n",
    "        return ratings_row\n",
    "\n",
    "    def get_most_similar_user_id(self,my_row):\n",
    "        similarities=cosine_similarity([my_row],ratings_matrix)[0]\n",
    "        most_similar_user = np.argmax(similarities)\n",
    "        similarity = similarities[most_similar_user]\n",
    "        return most_similar_user, similarity\n",
    "\n",
    "    def ratings_dict_from_row(self, rating_row):\n",
    "        ratings_dict = {}\n",
    "        for i, rating in enumerate(rating_row):\n",
    "            if rating != 0:\n",
    "                ratings_dict[i+1] = rating\n",
    "        return ratings_dict\n"
   ],
   "outputs": [],
   "metadata": {}
  },
  {
   "cell_type": "code",
   "execution_count": 260,
   "source": [
    "books_dataset = BookDataset(books = books, ratings = ratings, ratings_matrix = ratings_matrix)"
   ],
   "outputs": [],
   "metadata": {}
  },
  {
   "cell_type": "code",
   "execution_count": 261,
   "source": [
    "book_titles = [[\"siddhartha\",5], [\"demian\",5], [\"dune\",5], [\"brief history of time\",5]]\n",
    "for book_title, rating in book_titles:\n",
    "    book_to_rate_id = int(books_dataset.get_book_by_title(book_title).book_id)\n",
    "    books_dataset.rate_book(book_to_rate_id,rating)"
   ],
   "outputs": [],
   "metadata": {}
  },
  {
   "cell_type": "code",
   "execution_count": 262,
   "source": [
    "books_dataset.see_ratings_dict()"
   ],
   "outputs": [
    {
     "output_type": "execute_result",
     "data": {
      "text/plain": [
       "{'179    Siddhartha\\nName: title, dtype: object': 5,\n",
       " '2096    Demian. Die Geschichte von Emil Sinclairs Jugend\\nName: title, dtype: object': 5,\n",
       " '125    Dune (Dune Chronicles #1)\\nName: title, dtype: object': 5,\n",
       " '438    A Brief History of Time\\nName: title, dtype: object': 5}"
      ]
     },
     "metadata": {},
     "execution_count": 262
    }
   ],
   "metadata": {}
  },
  {
   "cell_type": "code",
   "execution_count": 263,
   "source": [
    "ratings_row = books_dataset.generate_ratings_row()"
   ],
   "outputs": [],
   "metadata": {}
  },
  {
   "cell_type": "code",
   "execution_count": 256,
   "source": [
    "most_similar_user_id, similarity = books_dataset.get_most_similar_user_id(ratings_row) "
   ],
   "outputs": [
    {
     "output_type": "stream",
     "name": "stdout",
     "text": [
      "[0. 0. 0. ... 0. 0. 0.]\n"
     ]
    }
   ],
   "metadata": {}
  },
  {
   "cell_type": "code",
   "execution_count": 257,
   "source": [
    "similar_ratings_dict = books_dataset.ratings_dict_from_row(ratings_matrix[most_similar_user_id])"
   ],
   "outputs": [],
   "metadata": {}
  },
  {
   "cell_type": "code",
   "execution_count": 258,
   "source": [
    "print(books_dataset.see_ratings_dict(similar_ratings_dict))"
   ],
   "outputs": [
    {
     "output_type": "stream",
     "name": "stdout",
     "text": [
      "{'3    To Kill a Mockingbird\\nName: title, dtype: object': 3.0, '6    The Hobbit\\nName: title, dtype: object': 5.0, '13    Animal Farm\\nName: title, dtype: object': 5.0, '28    Romeo and Juliet\\nName: title, dtype: object': 4.0, '34    The Alchemist\\nName: title, dtype: object': 4.0, '38    A Game of Thrones (A Song of Ice and Fire, #1)\\nName: title, dtype: object': 5.0, '49    Where the Sidewalk Ends\\nName: title, dtype: object': 5.0, '57    The Adventures of Huckleberry Finn\\nName: title, dtype: object': 4.0, '64    Slaughterhouse-Five\\nName: title, dtype: object': 4.0, '93    One Hundred Years of Solitude\\nName: title, dtype: object': 5.0, '125    Dune (Dune Chronicles #1)\\nName: title, dtype: object': 5.0, '166    American Gods (American Gods, #1)\\nName: title, dtype: object': 4.0, '179    Siddhartha\\nName: title, dtype: object': 5.0, '188    The Lord of the Rings (The Lord of the Rings, ...\\nName: title, dtype: object': 5.0, '190    Watchmen\\nName: title, dtype: object': 5.0, '193    Moby-Dick or, The Whale\\nName: title, dtype: object': 5.0, \"296    Cat's Cradle\\nName: title, dtype: object\": 5.0, '359    Do Androids Dream of Electric Sheep?\\nName: title, dtype: object': 5.0, '364    V for Vendetta\\nName: title, dtype: object': 5.0, '376    Stardust\\nName: title, dtype: object': 4.0, '827    Persepolis: The Story of a Childhood (Persepol...\\nName: title, dtype: object': 4.0, '973    The Man in the High Castle\\nName: title, dtype: object': 5.0, '1002    Contact\\nName: title, dtype: object': 4.0, '1104    Dune Messiah (Dune Chronicles #2)\\nName: title, dtype: object': 4.0, '1145    Understanding Comics: The Invisible Art\\nName: title, dtype: object': 5.0, '1261    Children of Dune (Dune Chronicles #3)\\nName: title, dtype: object': 4.0, '1463    The Complete Persepolis\\nName: title, dtype: object': 4.0, '1619    A Scanner Darkly\\nName: title, dtype: object': 5.0, '1949    Hellboy, Vol. 1: Seed of Destruction (Hellboy,...\\nName: title, dtype: object': 5.0, '2044    God Emperor of Dune (Dune Chronicles #4)\\nName: title, dtype: object': 4.0, '2096    Demian. Die Geschichte von Emil Sinclairs Jugend\\nName: title, dtype: object': 5.0, '2107    The Letters of Vincent van Gogh\\nName: title, dtype: object': 5.0, '2186    We\\nName: title, dtype: object': 4.0, '2450    Persepolis 2: The Story of a Return (Persepoli...\\nName: title, dtype: object': 4.0, '3084    Narcissus and Goldmund\\nName: title, dtype: object': 5.0, '3247    The Arrival\\nName: title, dtype: object': 5.0, '3402    The Lathe of Heaven\\nName: title, dtype: object': 5.0, '3498    The Natural Way to Draw\\nName: title, dtype: object': 4.0, '3519    Amphigorey (Amphigorey, #1)\\nName: title, dtype: object': 3.0, '4185    Anatomy for the Artist\\nName: title, dtype: object': 3.0, '4409    The Lord of the Rings: The Return of the King:...\\nName: title, dtype: object': 5.0, '4728    Gnomes\\nName: title, dtype: object': 5.0, '4950    Batman: The Man Who Laughs\\nName: title, dtype: object': 4.0, '5207    An Illustrated Life: Drawing Inspiration From ...\\nName: title, dtype: object': 5.0, '5267    Anatomy for the Artist\\nName: title, dtype: object': 5.0, '5311    Hellboy, Vol. 3: The Chained Coffin and Others...\\nName: title, dtype: object': 5.0, \"6585    Figure Drawing for All It's Worth (How to draw...\\nName: title, dtype: object\": 5.0, '6897    The Happy Prince\\nName: title, dtype: object': 5.0, '7882    The Sandman: King of Dreams\\nName: title, dtype: object': 4.0, '8399    Black Holes and Baby Universes\\nName: title, dtype: object': 5.0, \"8936    Lady Cottington's Pressed Fairy Book\\nName: title, dtype: object\": 5.0, \"9202    Batman: No Man's Land, Vol. 1\\nName: title, dtype: object\": 3.0, '9297    The Case of Charles Dexter Ward\\nName: title, dtype: object': 3.0}\n"
     ]
    }
   ],
   "metadata": {}
  }
 ],
 "metadata": {
  "orig_nbformat": 4,
  "language_info": {
   "name": "python",
   "version": "3.8.10",
   "mimetype": "text/x-python",
   "codemirror_mode": {
    "name": "ipython",
    "version": 3
   },
   "pygments_lexer": "ipython3",
   "nbconvert_exporter": "python",
   "file_extension": ".py"
  },
  "kernelspec": {
   "name": "python3",
   "display_name": "Python 3.8.10 64-bit ('venv': venv)"
  },
  "interpreter": {
   "hash": "b1d5d5b14bba2f16f3ef7d9fedee2a5e6a6a3f6ea1e0f49d73b4cddd21a75e82"
  }
 },
 "nbformat": 4,
 "nbformat_minor": 2
}