{
 "cells": [
  {
   "cell_type": "code",
   "execution_count": 43,
   "metadata": {},
   "outputs": [],
   "source": [
    "import pandas as pd\n",
    "import matplotlib.pyplot as plt\n",
    "import numpy as np\n",
    "%matplotlib inline"
   ]
  },
  {
   "cell_type": "code",
   "execution_count": 44,
   "metadata": {},
   "outputs": [
    {
     "output_type": "stream",
     "name": "stdout",
     "text": [
      ".\n",
      "C:\\Users\\44594722\\Anaconda3\\lib\\site-packages\\IPython\\core\\interactiveshell.py:3146: DtypeWarning: Columns (3) have mixed types.Specify dtype option on import or set low_memory=False.\n",
      "  has_raised = await self.run_ast_nodes(code_ast.body, cell_name,\n"
     ]
    }
   ],
   "source": [
    "original_movies = pd.read_csv(\"datasets/films/IMDb_movies.csv\")\n",
    "movies = original_movies.drop([\"imdb_title_id\", \"title\"], axis = 1)\n",
    "# movies = movies.drop([\"description\"], axis = 1)\n",
    "print(\".\")"
   ]
  },
  {
   "cell_type": "code",
   "execution_count": 45,
   "metadata": {},
   "outputs": [],
   "source": [
    "movies[\"actors\"] = movies[\"actors\"].fillna(\"\")\n",
    "movies[\"genre\"] = movies[\"genre\"].fillna(\"\")"
   ]
  },
  {
   "cell_type": "code",
   "execution_count": 46,
   "metadata": {},
   "outputs": [],
   "source": [
    "def clean_alt_list(list_):\n",
    "    list_ = str(list_.split(\", \"))\n",
    "    return list_"
   ]
  },
  {
   "cell_type": "code",
   "execution_count": 47,
   "metadata": {},
   "outputs": [],
   "source": [
    "movies[\"actors\"] = movies[\"actors\"].apply(clean_alt_list).apply(eval)\n",
    "movies[\"genre\"] = movies[\"genre\"].apply(clean_alt_list).apply(eval)"
   ]
  },
  {
   "cell_type": "code",
   "execution_count": 48,
   "metadata": {},
   "outputs": [],
   "source": [
    "def to_1D(series):\n",
    "    i = 0\n",
    "    actors  = []\n",
    "    for cast in series:\n",
    "        for actor in cast:\n",
    "            actors.append(actor)\n",
    "    return pd.Series(actors)\n"
   ]
  },
  {
   "cell_type": "code",
   "execution_count": 49,
   "metadata": {},
   "outputs": [],
   "source": [
    "actor_value_counts = to_1D(movies[\"actors\"]).value_counts()\n",
    "genre_value_counts = to_1D(movies[\"genre\"]).value_counts()"
   ]
  },
  {
   "cell_type": "code",
   "execution_count": 50,
   "metadata": {},
   "outputs": [],
   "source": [
    "def plot_distribution(x):\n",
    "    x.plot(\"barh\")"
   ]
  },
  {
   "cell_type": "code",
   "execution_count": 51,
   "metadata": {},
   "outputs": [],
   "source": [
    "#plot_distribution(genre_value_counts)"
   ]
  },
  {
   "cell_type": "code",
   "execution_count": 52,
   "metadata": {},
   "outputs": [
    {
     "output_type": "execute_result",
     "data": {
      "text/plain": [
       "                original_title  year date_published  \\\n",
       "0                   Miss Jerry  1894     1894-10-09   \n",
       "1  The Story of the Kelly Gang  1906     1906-12-26   \n",
       "\n",
       "                       genre  duration    country language         director  \\\n",
       "0                  [Romance]        45        USA     None  Alexander Black   \n",
       "1  [Biography, Crime, Drama]        70  Australia     None     Charles Tait   \n",
       "\n",
       "            writer          production_company  \\\n",
       "0  Alexander Black  Alexander Black Photoplays   \n",
       "1     Charles Tait              J. and N. Tait   \n",
       "\n",
       "                                              actors  \\\n",
       "0  [Blanche Bayliss, William Courtenay, Chauncey ...   \n",
       "1  [Elizabeth Tait, John Tait, Norman Campbell, B...   \n",
       "\n",
       "                                         description  avg_vote  votes  budget  \\\n",
       "0  The adventures of a female reporter in the 1890s.       5.9    154     NaN   \n",
       "1  True story of notorious Australian outlaw Ned ...       6.1    589  $ 2250   \n",
       "\n",
       "  usa_gross_income worlwide_gross_income  metascore  reviews_from_users  \\\n",
       "0              NaN                   NaN        NaN                 1.0   \n",
       "1              NaN                   NaN        NaN                 7.0   \n",
       "\n",
       "   reviews_from_critics  \n",
       "0                   2.0  \n",
       "1                   7.0  "
      ],
      "text/html": "<div>\n<style scoped>\n    .dataframe tbody tr th:only-of-type {\n        vertical-align: middle;\n    }\n\n    .dataframe tbody tr th {\n        vertical-align: top;\n    }\n\n    .dataframe thead th {\n        text-align: right;\n    }\n</style>\n<table border=\"1\" class=\"dataframe\">\n  <thead>\n    <tr style=\"text-align: right;\">\n      <th></th>\n      <th>original_title</th>\n      <th>year</th>\n      <th>date_published</th>\n      <th>genre</th>\n      <th>duration</th>\n      <th>country</th>\n      <th>language</th>\n      <th>director</th>\n      <th>writer</th>\n      <th>production_company</th>\n      <th>actors</th>\n      <th>description</th>\n      <th>avg_vote</th>\n      <th>votes</th>\n      <th>budget</th>\n      <th>usa_gross_income</th>\n      <th>worlwide_gross_income</th>\n      <th>metascore</th>\n      <th>reviews_from_users</th>\n      <th>reviews_from_critics</th>\n    </tr>\n  </thead>\n  <tbody>\n    <tr>\n      <th>0</th>\n      <td>Miss Jerry</td>\n      <td>1894</td>\n      <td>1894-10-09</td>\n      <td>[Romance]</td>\n      <td>45</td>\n      <td>USA</td>\n      <td>None</td>\n      <td>Alexander Black</td>\n      <td>Alexander Black</td>\n      <td>Alexander Black Photoplays</td>\n      <td>[Blanche Bayliss, William Courtenay, Chauncey ...</td>\n      <td>The adventures of a female reporter in the 1890s.</td>\n      <td>5.9</td>\n      <td>154</td>\n      <td>NaN</td>\n      <td>NaN</td>\n      <td>NaN</td>\n      <td>NaN</td>\n      <td>1.0</td>\n      <td>2.0</td>\n    </tr>\n    <tr>\n      <th>1</th>\n      <td>The Story of the Kelly Gang</td>\n      <td>1906</td>\n      <td>1906-12-26</td>\n      <td>[Biography, Crime, Drama]</td>\n      <td>70</td>\n      <td>Australia</td>\n      <td>None</td>\n      <td>Charles Tait</td>\n      <td>Charles Tait</td>\n      <td>J. and N. Tait</td>\n      <td>[Elizabeth Tait, John Tait, Norman Campbell, B...</td>\n      <td>True story of notorious Australian outlaw Ned ...</td>\n      <td>6.1</td>\n      <td>589</td>\n      <td>$ 2250</td>\n      <td>NaN</td>\n      <td>NaN</td>\n      <td>NaN</td>\n      <td>7.0</td>\n      <td>7.0</td>\n    </tr>\n  </tbody>\n</table>\n</div>"
     },
     "metadata": {},
     "execution_count": 52
    }
   ],
   "source": [
    "movies.head(2)"
   ]
  },
  {
   "cell_type": "code",
   "execution_count": 53,
   "metadata": {},
   "outputs": [],
   "source": [
    "minimum_votes_required = 25000\n",
    "total_mean_vote = movies[\"avg_vote\"].fillna(0).mean()\n",
    "votes_number = movies[\"votes\"].fillna(0)\n",
    "avg_rating = movies[\"avg_vote\"].fillna(0)"
   ]
  },
  {
   "cell_type": "code",
   "execution_count": 54,
   "metadata": {},
   "outputs": [],
   "source": [
    "wr = (votes_number/(votes_number+total_mean_vote))*avg_rating+(total_mean_vote/(votes_number+total_mean_vote))*total_mean_vote"
   ]
  },
  {
   "cell_type": "code",
   "execution_count": null,
   "metadata": {},
   "outputs": [],
   "source": []
  },
  {
   "cell_type": "code",
   "execution_count": 55,
   "metadata": {},
   "outputs": [],
   "source": [
    "movies[\"wr\"] = wr"
   ]
  },
  {
   "cell_type": "code",
   "execution_count": 56,
   "metadata": {},
   "outputs": [],
   "source": [
    "def filter_wr(movie):\n",
    "    if movie[\"votes\"]<25000:\n",
    "        movie[\"wr\"] = None\n",
    "    return movie"
   ]
  },
  {
   "cell_type": "code",
   "execution_count": 57,
   "metadata": {},
   "outputs": [],
   "source": [
    "movies = movies.apply(filter_wr, axis = 1)"
   ]
  },
  {
   "cell_type": "code",
   "execution_count": 58,
   "metadata": {},
   "outputs": [],
   "source": [
    "movies = movies.drop([\"avg_vote\", \"reviews_from_users\", \"reviews_from_critics\"], axis = 1)"
   ]
  },
  {
   "cell_type": "code",
   "execution_count": 59,
   "metadata": {},
   "outputs": [
    {
     "output_type": "execute_result",
     "data": {
      "text/plain": [
       "80759"
      ]
     },
     "metadata": {},
     "execution_count": 59
    }
   ],
   "source": [
    "len(original_movies[original_movies[\"votes\"]<25000])"
   ]
  },
  {
   "cell_type": "code",
   "execution_count": 60,
   "metadata": {},
   "outputs": [
    {
     "output_type": "execute_result",
     "data": {
      "text/plain": [
       "85855"
      ]
     },
     "metadata": {},
     "execution_count": 60
    }
   ],
   "source": [
    "len(original_movies)"
   ]
  },
  {
   "cell_type": "code",
   "execution_count": 61,
   "metadata": {},
   "outputs": [
    {
     "output_type": "execute_result",
     "data": {
      "text/plain": [
       "                                      original_title  year date_published  \\\n",
       "28453                       The Shawshank Redemption  1994     1995-02-10   \n",
       "38406                                 Hababam Sinifi  1975     1975-04-01   \n",
       "15528                                  The Godfather  1972     1972-09-21   \n",
       "48078                                The Dark Knight  2008     2008-07-23   \n",
       "16556                         The Godfather: Part II  1974     1975-09-25   \n",
       "28381                                   Pulp Fiction  1994     1994-10-28   \n",
       "34127  The Lord of the Rings: The Return of the King  2003     2004-01-22   \n",
       "27629                               Schindler's List  1993     1994-03-11   \n",
       "8973                                    12 Angry Men  1957     1957-09-04   \n",
       "57475                                      Inception  2010     2010-09-24   \n",
       "\n",
       "                             genre  duration           country  \\\n",
       "28453                      [Drama]       142               USA   \n",
       "38406              [Comedy, Drama]        87            Turkey   \n",
       "15528               [Crime, Drama]       175               USA   \n",
       "48078       [Action, Crime, Drama]       152           USA, UK   \n",
       "16556               [Crime, Drama]       202               USA   \n",
       "28381               [Crime, Drama]       154               USA   \n",
       "34127   [Action, Adventure, Drama]       201  New Zealand, USA   \n",
       "27629  [Biography, Drama, History]       195               USA   \n",
       "8973                [Crime, Drama]        96               USA   \n",
       "57475  [Action, Adventure, Sci-Fi]       148           USA, UK   \n",
       "\n",
       "                                         language              director  \\\n",
       "28453                                     English        Frank Darabont   \n",
       "38406                                     Turkish         Ertem Egilmez   \n",
       "15528                     English, Italian, Latin  Francis Ford Coppola   \n",
       "48078                           English, Mandarin     Christopher Nolan   \n",
       "16556  English, Italian, Spanish, Latin, Sicilian  Francis Ford Coppola   \n",
       "28381                    English, Spanish, French     Quentin Tarantino   \n",
       "34127      English, Quenya, Old English, Sindarin         Peter Jackson   \n",
       "27629      English, Hebrew, German, Polish, Latin      Steven Spielberg   \n",
       "8973                                      English          Sidney Lumet   \n",
       "57475                   English, Japanese, French     Christopher Nolan   \n",
       "\n",
       "                                  writer         production_company  \\\n",
       "28453       Stephen King, Frank Darabont  Castle Rock Entertainment   \n",
       "38406            Umur Bugay, Rifat Ilgaz                  Arzu Film   \n",
       "15528   Mario Puzo, Francis Ford Coppola         Paramount Pictures   \n",
       "48078  Jonathan Nolan, Christopher Nolan               Warner Bros.   \n",
       "16556   Francis Ford Coppola, Mario Puzo         Paramount Pictures   \n",
       "28381     Quentin Tarantino, Roger Avary                    Miramax   \n",
       "34127         J.R.R. Tolkien, Fran Walsh            New Line Cinema   \n",
       "27629   Thomas Keneally, Steven Zaillian         Universal Pictures   \n",
       "8973        Reginald Rose, Reginald Rose     Orion-Nova Productions   \n",
       "57475                  Christopher Nolan               Warner Bros.   \n",
       "\n",
       "                                                  actors  \\\n",
       "28453  [Tim Robbins, Morgan Freeman, Bob Gunton, Will...   \n",
       "38406  [Kemal Sunal, Münir Özkul, Halit Akçatepe, Tar...   \n",
       "15528  [Marlon Brando, Al Pacino, James Caan, Richard...   \n",
       "48078  [Christian Bale, Heath Ledger, Aaron Eckhart, ...   \n",
       "16556  [Al Pacino, Robert Duvall, Diane Keaton, Rober...   \n",
       "28381  [Tim Roth, Amanda Plummer, Laura Lovelace, Joh...   \n",
       "34127  [Noel Appleby, Ali Astin, Sean Astin, David As...   \n",
       "27629  [Liam Neeson, Ben Kingsley, Ralph Fiennes, Car...   \n",
       "8973   [Martin Balsam, John Fiedler, Lee J. Cobb, E.G...   \n",
       "57475  [Leonardo DiCaprio, Joseph Gordon-Levitt, Elle...   \n",
       "\n",
       "                                             description    votes  \\\n",
       "28453  Two imprisoned men bond over a number of years...  2278845   \n",
       "38406  Lazy, uneducated students share a very close b...    36269   \n",
       "15528  The aging patriarch of an organized crime dyna...  1572674   \n",
       "48078  When the menace known as the Joker wreaks havo...  2241615   \n",
       "16556  The early life and career of Vito Corleone in ...  1098714   \n",
       "28381  The lives of two mob hitmen, a boxer, a gangst...  1780147   \n",
       "34127  Gandalf and Aragorn lead the World of Men agai...  1604280   \n",
       "27629  In German-occupied Poland during World War II,...  1183248   \n",
       "8973   A jury holdout attempts to prevent a miscarria...   668473   \n",
       "57475  A thief who steals corporate secrets through t...  2002816   \n",
       "\n",
       "            budget usa_gross_income worlwide_gross_income  metascore        wr  \n",
       "28453   $ 25000000       $ 28699976            $ 28815245       80.0  9.299991  \n",
       "38406          NaN              NaN                   NaN        NaN  9.299447  \n",
       "15528    $ 6000000      $ 134966411           $ 246120974      100.0  9.199988  \n",
       "48078  $ 185000000      $ 535234033          $ 1005455211       84.0  8.999992  \n",
       "16556   $ 13000000       $ 47834595            $ 48035783       90.0  8.999983  \n",
       "28381    $ 8000000      $ 107928762           $ 222831817       94.0  8.899990  \n",
       "34127   $ 94000000      $ 377845905          $ 1142271098       94.0  8.899989  \n",
       "27629   $ 22000000       $ 96898818           $ 322287794       94.0  8.899985  \n",
       "8973      $ 350000              NaN                 $ 576       96.0  8.899974  \n",
       "57475  $ 160000000      $ 292576195           $ 869784991       74.0  8.799991  "
      ],
      "text/html": "<div>\n<style scoped>\n    .dataframe tbody tr th:only-of-type {\n        vertical-align: middle;\n    }\n\n    .dataframe tbody tr th {\n        vertical-align: top;\n    }\n\n    .dataframe thead th {\n        text-align: right;\n    }\n</style>\n<table border=\"1\" class=\"dataframe\">\n  <thead>\n    <tr style=\"text-align: right;\">\n      <th></th>\n      <th>original_title</th>\n      <th>year</th>\n      <th>date_published</th>\n      <th>genre</th>\n      <th>duration</th>\n      <th>country</th>\n      <th>language</th>\n      <th>director</th>\n      <th>writer</th>\n      <th>production_company</th>\n      <th>actors</th>\n      <th>description</th>\n      <th>votes</th>\n      <th>budget</th>\n      <th>usa_gross_income</th>\n      <th>worlwide_gross_income</th>\n      <th>metascore</th>\n      <th>wr</th>\n    </tr>\n  </thead>\n  <tbody>\n    <tr>\n      <th>28453</th>\n      <td>The Shawshank Redemption</td>\n      <td>1994</td>\n      <td>1995-02-10</td>\n      <td>[Drama]</td>\n      <td>142</td>\n      <td>USA</td>\n      <td>English</td>\n      <td>Frank Darabont</td>\n      <td>Stephen King, Frank Darabont</td>\n      <td>Castle Rock Entertainment</td>\n      <td>[Tim Robbins, Morgan Freeman, Bob Gunton, Will...</td>\n      <td>Two imprisoned men bond over a number of years...</td>\n      <td>2278845</td>\n      <td>$ 25000000</td>\n      <td>$ 28699976</td>\n      <td>$ 28815245</td>\n      <td>80.0</td>\n      <td>9.299991</td>\n    </tr>\n    <tr>\n      <th>38406</th>\n      <td>Hababam Sinifi</td>\n      <td>1975</td>\n      <td>1975-04-01</td>\n      <td>[Comedy, Drama]</td>\n      <td>87</td>\n      <td>Turkey</td>\n      <td>Turkish</td>\n      <td>Ertem Egilmez</td>\n      <td>Umur Bugay, Rifat Ilgaz</td>\n      <td>Arzu Film</td>\n      <td>[Kemal Sunal, Münir Özkul, Halit Akçatepe, Tar...</td>\n      <td>Lazy, uneducated students share a very close b...</td>\n      <td>36269</td>\n      <td>NaN</td>\n      <td>NaN</td>\n      <td>NaN</td>\n      <td>NaN</td>\n      <td>9.299447</td>\n    </tr>\n    <tr>\n      <th>15528</th>\n      <td>The Godfather</td>\n      <td>1972</td>\n      <td>1972-09-21</td>\n      <td>[Crime, Drama]</td>\n      <td>175</td>\n      <td>USA</td>\n      <td>English, Italian, Latin</td>\n      <td>Francis Ford Coppola</td>\n      <td>Mario Puzo, Francis Ford Coppola</td>\n      <td>Paramount Pictures</td>\n      <td>[Marlon Brando, Al Pacino, James Caan, Richard...</td>\n      <td>The aging patriarch of an organized crime dyna...</td>\n      <td>1572674</td>\n      <td>$ 6000000</td>\n      <td>$ 134966411</td>\n      <td>$ 246120974</td>\n      <td>100.0</td>\n      <td>9.199988</td>\n    </tr>\n    <tr>\n      <th>48078</th>\n      <td>The Dark Knight</td>\n      <td>2008</td>\n      <td>2008-07-23</td>\n      <td>[Action, Crime, Drama]</td>\n      <td>152</td>\n      <td>USA, UK</td>\n      <td>English, Mandarin</td>\n      <td>Christopher Nolan</td>\n      <td>Jonathan Nolan, Christopher Nolan</td>\n      <td>Warner Bros.</td>\n      <td>[Christian Bale, Heath Ledger, Aaron Eckhart, ...</td>\n      <td>When the menace known as the Joker wreaks havo...</td>\n      <td>2241615</td>\n      <td>$ 185000000</td>\n      <td>$ 535234033</td>\n      <td>$ 1005455211</td>\n      <td>84.0</td>\n      <td>8.999992</td>\n    </tr>\n    <tr>\n      <th>16556</th>\n      <td>The Godfather: Part II</td>\n      <td>1974</td>\n      <td>1975-09-25</td>\n      <td>[Crime, Drama]</td>\n      <td>202</td>\n      <td>USA</td>\n      <td>English, Italian, Spanish, Latin, Sicilian</td>\n      <td>Francis Ford Coppola</td>\n      <td>Francis Ford Coppola, Mario Puzo</td>\n      <td>Paramount Pictures</td>\n      <td>[Al Pacino, Robert Duvall, Diane Keaton, Rober...</td>\n      <td>The early life and career of Vito Corleone in ...</td>\n      <td>1098714</td>\n      <td>$ 13000000</td>\n      <td>$ 47834595</td>\n      <td>$ 48035783</td>\n      <td>90.0</td>\n      <td>8.999983</td>\n    </tr>\n    <tr>\n      <th>28381</th>\n      <td>Pulp Fiction</td>\n      <td>1994</td>\n      <td>1994-10-28</td>\n      <td>[Crime, Drama]</td>\n      <td>154</td>\n      <td>USA</td>\n      <td>English, Spanish, French</td>\n      <td>Quentin Tarantino</td>\n      <td>Quentin Tarantino, Roger Avary</td>\n      <td>Miramax</td>\n      <td>[Tim Roth, Amanda Plummer, Laura Lovelace, Joh...</td>\n      <td>The lives of two mob hitmen, a boxer, a gangst...</td>\n      <td>1780147</td>\n      <td>$ 8000000</td>\n      <td>$ 107928762</td>\n      <td>$ 222831817</td>\n      <td>94.0</td>\n      <td>8.899990</td>\n    </tr>\n    <tr>\n      <th>34127</th>\n      <td>The Lord of the Rings: The Return of the King</td>\n      <td>2003</td>\n      <td>2004-01-22</td>\n      <td>[Action, Adventure, Drama]</td>\n      <td>201</td>\n      <td>New Zealand, USA</td>\n      <td>English, Quenya, Old English, Sindarin</td>\n      <td>Peter Jackson</td>\n      <td>J.R.R. Tolkien, Fran Walsh</td>\n      <td>New Line Cinema</td>\n      <td>[Noel Appleby, Ali Astin, Sean Astin, David As...</td>\n      <td>Gandalf and Aragorn lead the World of Men agai...</td>\n      <td>1604280</td>\n      <td>$ 94000000</td>\n      <td>$ 377845905</td>\n      <td>$ 1142271098</td>\n      <td>94.0</td>\n      <td>8.899989</td>\n    </tr>\n    <tr>\n      <th>27629</th>\n      <td>Schindler's List</td>\n      <td>1993</td>\n      <td>1994-03-11</td>\n      <td>[Biography, Drama, History]</td>\n      <td>195</td>\n      <td>USA</td>\n      <td>English, Hebrew, German, Polish, Latin</td>\n      <td>Steven Spielberg</td>\n      <td>Thomas Keneally, Steven Zaillian</td>\n      <td>Universal Pictures</td>\n      <td>[Liam Neeson, Ben Kingsley, Ralph Fiennes, Car...</td>\n      <td>In German-occupied Poland during World War II,...</td>\n      <td>1183248</td>\n      <td>$ 22000000</td>\n      <td>$ 96898818</td>\n      <td>$ 322287794</td>\n      <td>94.0</td>\n      <td>8.899985</td>\n    </tr>\n    <tr>\n      <th>8973</th>\n      <td>12 Angry Men</td>\n      <td>1957</td>\n      <td>1957-09-04</td>\n      <td>[Crime, Drama]</td>\n      <td>96</td>\n      <td>USA</td>\n      <td>English</td>\n      <td>Sidney Lumet</td>\n      <td>Reginald Rose, Reginald Rose</td>\n      <td>Orion-Nova Productions</td>\n      <td>[Martin Balsam, John Fiedler, Lee J. Cobb, E.G...</td>\n      <td>A jury holdout attempts to prevent a miscarria...</td>\n      <td>668473</td>\n      <td>$ 350000</td>\n      <td>NaN</td>\n      <td>$ 576</td>\n      <td>96.0</td>\n      <td>8.899974</td>\n    </tr>\n    <tr>\n      <th>57475</th>\n      <td>Inception</td>\n      <td>2010</td>\n      <td>2010-09-24</td>\n      <td>[Action, Adventure, Sci-Fi]</td>\n      <td>148</td>\n      <td>USA, UK</td>\n      <td>English, Japanese, French</td>\n      <td>Christopher Nolan</td>\n      <td>Christopher Nolan</td>\n      <td>Warner Bros.</td>\n      <td>[Leonardo DiCaprio, Joseph Gordon-Levitt, Elle...</td>\n      <td>A thief who steals corporate secrets through t...</td>\n      <td>2002816</td>\n      <td>$ 160000000</td>\n      <td>$ 292576195</td>\n      <td>$ 869784991</td>\n      <td>74.0</td>\n      <td>8.799991</td>\n    </tr>\n  </tbody>\n</table>\n</div>"
     },
     "metadata": {},
     "execution_count": 61
    }
   ],
   "source": [
    "movies.sort_values(by=\"wr\", ascending=False).head(10)"
   ]
  },
  {
   "cell_type": "code",
   "execution_count": null,
   "metadata": {},
   "outputs": [],
   "source": []
  }
 ],
 "metadata": {
  "interpreter": {
   "hash": "12d9c4aa089b999d520d2cd1745f4bd41d5f9024d4c78ac20fe045086c1c6da3"
  },
  "kernelspec": {
   "name": "python3",
   "display_name": "Python 3.8.5 64-bit ('base': conda)"
  },
  "language_info": {
   "codemirror_mode": {
    "name": "ipython",
    "version": 3
   },
   "file_extension": ".py",
   "mimetype": "text/x-python",
   "name": "python",
   "nbconvert_exporter": "python",
   "pygments_lexer": "ipython3",
   "version": "3.8.5"
  }
 },
 "nbformat": 4,
 "nbformat_minor": 4
}