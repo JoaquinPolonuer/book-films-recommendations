{
 "cells": [
  {
   "cell_type": "code",
   "execution_count": 12,
   "source": [
    "import pandas as pd\n",
    "import numpy as np\n",
    "from sklearn.metrics.pairwise import cosine_similarity\n",
    "\n",
    "class Books:\n",
    "    def __init__(self, global_path):\n",
    "        self.objects = pd.read_csv(global_path+ \"/books.csv\")\n",
    "        \n",
    "class Tags:\n",
    "    def __init__(self, global_path):\n",
    "        self.objects = pd.read_csv(global_path+ \"/tags.csv\")\n",
    "\n",
    "class BookTags:\n",
    "    def __init__(self, global_path):\n",
    "        self.objects = pd.read_csv(global_path+\"/book_tags.csv\")\n",
    "        self._books = Books(global_path)\n",
    "        self._tags = Tags(global_path)\n",
    "        self.objects = pd.merge(self.objects, self._books.objects[[\"goodreads_book_id\",\"book_id\"]], on=\"goodreads_book_id\", how=\"right\")\n",
    "\n",
    "        book_ids = self.objects.book_id.unique().shape[0]\n",
    "        tag_ids = self.objects.tag_id.unique().shape[0]\n",
    "        \n",
    "        self.matrix = np.zeros((book_ids, tag_ids))\n",
    "        for row in self.objects.itertuples():\n",
    "            self.matrix[row.book_id-1, row.tag_id-1] = 1\n",
    "    \n",
    "    def get_book_similarities(self, book):\n",
    "        book_id = book.book_id\n",
    "        book_row = self.matrix[book_id-1]\n",
    "        similarities_to_book = cosine_similarity([book_row],self.matrix)[0]\n",
    "        return similarities_to_book"
   ],
   "outputs": [],
   "metadata": {}
  },
  {
   "cell_type": "code",
   "execution_count": 13,
   "source": [
    "goodbooks_dataset_path = \"/home/joacopolo/Documents/software/python/draft-projects/books-recommender/goodbooks-10k\"\n",
    "books = Books(goodbooks_dataset_path)\n",
    "tags = Tags(goodbooks_dataset_path)\n",
    "book_tags = BookTags(goodbooks_dataset_path)"
   ],
   "outputs": [],
   "metadata": {}
  },
  {
   "cell_type": "code",
   "execution_count": 44,
   "source": [
    "book = books.objects.iloc[2]\n",
    "book_similarities = book_tags.get_book_similarities(book)\n",
    "print(\"Nuestro libro es\", book[\"title\"], \"los mas parecidos son\")\n",
    "[print(books.objects.iloc[i][\"title\"], \"(\"+str(int(book_similarities[i]*100))+\"%)\") for i in book_similarities.argsort()[::-1][:10]]"
   ],
   "outputs": [],
   "metadata": {}
  },
  {
   "cell_type": "code",
   "execution_count": null,
   "source": [],
   "outputs": [],
   "metadata": {}
  }
 ],
 "metadata": {
  "orig_nbformat": 4,
  "language_info": {
   "name": "python",
   "version": "3.8.10",
   "mimetype": "text/x-python",
   "codemirror_mode": {
    "name": "ipython",
    "version": 3
   },
   "pygments_lexer": "ipython3",
   "nbconvert_exporter": "python",
   "file_extension": ".py"
  },
  "kernelspec": {
   "name": "python3",
   "display_name": "Python 3.8.10 64-bit ('venv': venv)"
  },
  "interpreter": {
   "hash": "b1d5d5b14bba2f16f3ef7d9fedee2a5e6a6a3f6ea1e0f49d73b4cddd21a75e82"
  }
 },
 "nbformat": 4,
 "nbformat_minor": 2
}