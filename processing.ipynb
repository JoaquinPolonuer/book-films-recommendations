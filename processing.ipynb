{
 "cells": [
  {
   "cell_type": "code",
   "execution_count": 58,
   "source": [
    "import pandas as pd\n",
    "import numpy as np\n",
    "from sklearn.metrics.pairwise import cosine_similarity\n",
    "import re\n",
    "\n",
    "class Books:\n",
    "    def __init__(self, global_path):\n",
    "        self.objects = pd.read_csv(global_path+ \"/books.csv\")\n",
    "    \n",
    "    def get_book_id_by_title(self, title):\n",
    "        return self.objects[self.objects.title.str.contains(title, flags=re.IGNORECASE)]\n",
    "        \n",
    "    def get_books(self):\n",
    "        return list(self.objects.T.to_dict().values())\n",
    "\n",
    "    def get_book_by_id(self, book_id):\n",
    "        return self.objects.iloc[book_id-1]\n",
    "        \n",
    "class Tags:\n",
    "    def __init__(self, global_path):\n",
    "        self.objects = pd.read_csv(global_path+ \"/tags.csv\")\n",
    "\n",
    "class BookTags:\n",
    "    def __init__(self, global_path):\n",
    "        self.objects = pd.read_csv(global_path+\"/book_tags.csv\")\n",
    "        self._books = Books(global_path)\n",
    "        self._tags = Tags(global_path)\n",
    "        self.objects = pd.merge(self.objects, self._books.objects[[\"goodreads_book_id\",\"book_id\"]], on=\"goodreads_book_id\", how=\"right\")\n",
    "\n",
    "        book_ids = self.objects.book_id.unique().shape[0]\n",
    "        tag_ids = self.objects.tag_id.unique().shape[0]\n",
    "        \n",
    "        self.matrix = np.zeros((book_ids, tag_ids))\n",
    "        for row in self.objects.itertuples():\n",
    "            self.matrix[row.book_id-1, row.tag_id-1] = 1\n",
    "    \n",
    "    def get_book_similarities(self, book):\n",
    "        book_id = book.book_id\n",
    "        book_row = self.matrix[book_id-1]\n",
    "        similarities_to_book = cosine_similarity([book_row],self.matrix)[0]\n",
    "        \n",
    "        return similarities_to_book\n",
    "\n"
   ],
   "outputs": [],
   "metadata": {}
  },
  {
   "cell_type": "code",
   "execution_count": 59,
   "source": [
    "goodbooks_dataset_path = \"dataset/\"\n",
    "books = Books(goodbooks_dataset_path)\n",
    "tags = Tags(goodbooks_dataset_path)\n",
    "book_tags = BookTags(goodbooks_dataset_path)"
   ],
   "outputs": [],
   "metadata": {}
  },
  {
   "cell_type": "code",
   "execution_count": 24,
   "source": [
    "while True:\n",
    "    title = input(\"Title: \")\n",
    "    print(\"\")\n",
    "    matches = books.get_book_id_by_title(title)\n",
    "    [print(match.title,match.book_id) for match in matches.itertuples()]\n",
    "    print(\"\")\n",
    "    if input(\"Encontraste tu libro? (y/n)\") == \"y\":\n",
    "        print(\"\")\n",
    "        break"
   ],
   "outputs": [
    {
     "output_type": "stream",
     "name": "stdout",
     "text": [
      "\n",
      "Demian. Die Geschichte von Emil Sinclairs Jugend 2096\n",
      "\n",
      "\n"
     ]
    }
   ],
   "metadata": {}
  },
  {
   "cell_type": "code",
   "execution_count": 25,
   "source": [
    "book_id = int(input(\"Ingresa el id del libro:\"))\n",
    "print(\"\")\n",
    "book = books.get_book_by_id(book_id)\n",
    "book_similarities = book_tags.get_book_similarities(book)\n",
    "print(\"Nuestro libro es\", book[\"title\"],\"...\")\n",
    "print(\"Los mas parecidos son:\\n\")\n",
    "[print(books.objects.iloc[i][\"title\"], \"-\", books.objects.iloc[i][\"authors\"], \"(\"+str(int(book_similarities[i]*100))+\"%)\") for i in book_similarities.argsort()[::-1][1:10]]"
   ],
   "outputs": [
    {
     "output_type": "stream",
     "name": "stdout",
     "text": [
      "\n",
      "Nuestro libro es Demian. Die Geschichte von Emil Sinclairs Jugend ...\n",
      "Los mas parecidos son:\n",
      "\n",
      "Steppenwolf - Hermann Hesse, Basil Creighton (72%)\n",
      "Narcissus and Goldmund - Hermann Hesse, Ursule Molinaro (68%)\n",
      "Siddhartha - Hermann Hesse, Hilda Rosner (64%)\n",
      "The Metamorphosis - Franz Kafka, Stanley Corngold (62%)\n",
      "The Stranger - Albert Camus, Matthew    Ward (62%)\n",
      "Perfume: The Story of a Murderer - Patrick Süskind, John E. Woods (59%)\n",
      "Death in Venice - Thomas Mann, Michael Henry Heim, Michael Cunningham (58%)\n",
      "All Quiet on the Western Front - Erich Maria Remarque, A.W. Wheen (56%)\n",
      "The Glass Bead Game - Hermann Hesse, Richard Winston, Clara Winston, Theodore Ziolkowski (56%)\n"
     ]
    },
    {
     "output_type": "execute_result",
     "data": {
      "text/plain": [
       "[None, None, None, None, None, None, None, None, None]"
      ]
     },
     "metadata": {},
     "execution_count": 25
    }
   ],
   "metadata": {}
  },
  {
   "cell_type": "code",
   "execution_count": 28,
   "source": [
    "import json\n",
    "books_as_json = books.get_books()\n",
    "json.dumps(books_as_json)"
   ],
   "outputs": [],
   "metadata": {}
  },
  {
   "cell_type": "code",
   "execution_count": 60,
   "source": [
    "books.get_book_id_by_title(\"sidd\")"
   ],
   "outputs": [
    {
     "output_type": "execute_result",
     "data": {
      "text/plain": [
       "     book_id  goodreads_book_id  best_book_id  work_id  books_count  \\\n",
       "179      180              52036         52036  4840290          972   \n",
       "\n",
       "          isbn        isbn13                      authors  \\\n",
       "179  553208845  9.780553e+12  Hermann Hesse, Hilda Rosner   \n",
       "\n",
       "     original_publication_year original_title  ... ratings_count  \\\n",
       "179                     1922.0     Siddhartha  ...        372099   \n",
       "\n",
       "    work_ratings_count  work_text_reviews_count  ratings_1  ratings_2  \\\n",
       "179             418653                    11518      10229      25529   \n",
       "\n",
       "     ratings_3  ratings_4  ratings_5  \\\n",
       "179      83698     138837     160360   \n",
       "\n",
       "                                             image_url  \\\n",
       "179  https://images.gr-assets.com/books/1428715580m...   \n",
       "\n",
       "                                       small_image_url  \n",
       "179  https://images.gr-assets.com/books/1428715580s...  \n",
       "\n",
       "[1 rows x 23 columns]"
      ],
      "text/html": [
       "<div>\n",
       "<style scoped>\n",
       "    .dataframe tbody tr th:only-of-type {\n",
       "        vertical-align: middle;\n",
       "    }\n",
       "\n",
       "    .dataframe tbody tr th {\n",
       "        vertical-align: top;\n",
       "    }\n",
       "\n",
       "    .dataframe thead th {\n",
       "        text-align: right;\n",
       "    }\n",
       "</style>\n",
       "<table border=\"1\" class=\"dataframe\">\n",
       "  <thead>\n",
       "    <tr style=\"text-align: right;\">\n",
       "      <th></th>\n",
       "      <th>book_id</th>\n",
       "      <th>goodreads_book_id</th>\n",
       "      <th>best_book_id</th>\n",
       "      <th>work_id</th>\n",
       "      <th>books_count</th>\n",
       "      <th>isbn</th>\n",
       "      <th>isbn13</th>\n",
       "      <th>authors</th>\n",
       "      <th>original_publication_year</th>\n",
       "      <th>original_title</th>\n",
       "      <th>...</th>\n",
       "      <th>ratings_count</th>\n",
       "      <th>work_ratings_count</th>\n",
       "      <th>work_text_reviews_count</th>\n",
       "      <th>ratings_1</th>\n",
       "      <th>ratings_2</th>\n",
       "      <th>ratings_3</th>\n",
       "      <th>ratings_4</th>\n",
       "      <th>ratings_5</th>\n",
       "      <th>image_url</th>\n",
       "      <th>small_image_url</th>\n",
       "    </tr>\n",
       "  </thead>\n",
       "  <tbody>\n",
       "    <tr>\n",
       "      <th>179</th>\n",
       "      <td>180</td>\n",
       "      <td>52036</td>\n",
       "      <td>52036</td>\n",
       "      <td>4840290</td>\n",
       "      <td>972</td>\n",
       "      <td>553208845</td>\n",
       "      <td>9.780553e+12</td>\n",
       "      <td>Hermann Hesse, Hilda Rosner</td>\n",
       "      <td>1922.0</td>\n",
       "      <td>Siddhartha</td>\n",
       "      <td>...</td>\n",
       "      <td>372099</td>\n",
       "      <td>418653</td>\n",
       "      <td>11518</td>\n",
       "      <td>10229</td>\n",
       "      <td>25529</td>\n",
       "      <td>83698</td>\n",
       "      <td>138837</td>\n",
       "      <td>160360</td>\n",
       "      <td>https://images.gr-assets.com/books/1428715580m...</td>\n",
       "      <td>https://images.gr-assets.com/books/1428715580s...</td>\n",
       "    </tr>\n",
       "  </tbody>\n",
       "</table>\n",
       "<p>1 rows × 23 columns</p>\n",
       "</div>"
      ]
     },
     "metadata": {},
     "execution_count": 60
    }
   ],
   "metadata": {}
  },
  {
   "cell_type": "code",
   "execution_count": 63,
   "source": [
    "books.get_book_by_id(180)"
   ],
   "outputs": [
    {
     "output_type": "execute_result",
     "data": {
      "text/plain": [
       "book_id                                                                    180\n",
       "goodreads_book_id                                                        52036\n",
       "best_book_id                                                             52036\n",
       "work_id                                                                4840290\n",
       "books_count                                                                972\n",
       "isbn                                                                 553208845\n",
       "isbn13                                                         9780553208850.0\n",
       "authors                                            Hermann Hesse, Hilda Rosner\n",
       "original_publication_year                                               1922.0\n",
       "original_title                                                      Siddhartha\n",
       "title                                                               Siddhartha\n",
       "language_code                                                              eng\n",
       "average_rating                                                            3.99\n",
       "ratings_count                                                           372099\n",
       "work_ratings_count                                                      418653\n",
       "work_text_reviews_count                                                  11518\n",
       "ratings_1                                                                10229\n",
       "ratings_2                                                                25529\n",
       "ratings_3                                                                83698\n",
       "ratings_4                                                               138837\n",
       "ratings_5                                                               160360\n",
       "image_url                    https://images.gr-assets.com/books/1428715580m...\n",
       "small_image_url              https://images.gr-assets.com/books/1428715580s...\n",
       "Name: 179, dtype: object"
      ]
     },
     "metadata": {},
     "execution_count": 63
    }
   ],
   "metadata": {}
  },
  {
   "cell_type": "code",
   "execution_count": null,
   "source": [],
   "outputs": [],
   "metadata": {}
  }
 ],
 "metadata": {
  "orig_nbformat": 4,
  "language_info": {
   "name": "python",
   "version": "3.8.10",
   "mimetype": "text/x-python",
   "codemirror_mode": {
    "name": "ipython",
    "version": 3
   },
   "pygments_lexer": "ipython3",
   "nbconvert_exporter": "python",
   "file_extension": ".py"
  },
  "kernelspec": {
   "name": "python3",
   "display_name": "Python 3.8.10 64-bit ('venv': venv)"
  },
  "interpreter": {
   "hash": "b1d5d5b14bba2f16f3ef7d9fedee2a5e6a6a3f6ea1e0f49d73b4cddd21a75e82"
  }
 },
 "nbformat": 4,
 "nbformat_minor": 2
}