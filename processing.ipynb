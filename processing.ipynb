{
 "cells": [
  {
   "cell_type": "code",
   "execution_count": 46,
   "source": [
    "import pandas as pd\n",
    "import numpy as np\n",
    "from sklearn.metrics.pairwise import cosine_similarity\n",
    "import re\n",
    "\n",
    "class Books:\n",
    "    def __init__(self, global_path):\n",
    "        self.objects = pd.read_csv(global_path+ \"/books.csv\")\n",
    "    \n",
    "    def get_book_id_by_title(self, title):\n",
    "        return self.objects[self.objects.title.str.contains(title, flags=re.IGNORECASE)]\n",
    "        \n",
    "class Tags:\n",
    "    def __init__(self, global_path):\n",
    "        self.objects = pd.read_csv(global_path+ \"/tags.csv\")\n",
    "\n",
    "class BookTags:\n",
    "    def __init__(self, global_path):\n",
    "        self.objects = pd.read_csv(global_path+\"/book_tags.csv\")\n",
    "        self._books = Books(global_path)\n",
    "        self._tags = Tags(global_path)\n",
    "        self.objects = pd.merge(self.objects, self._books.objects[[\"goodreads_book_id\",\"book_id\"]], on=\"goodreads_book_id\", how=\"right\")\n",
    "\n",
    "        book_ids = self.objects.book_id.unique().shape[0]\n",
    "        tag_ids = self.objects.tag_id.unique().shape[0]\n",
    "        \n",
    "        self.matrix = np.zeros((book_ids, tag_ids))\n",
    "        for row in self.objects.itertuples():\n",
    "            self.matrix[row.book_id-1, row.tag_id-1] = 1\n",
    "    \n",
    "    def get_book_similarities(self, book):\n",
    "        book_id = book.book_id\n",
    "        book_row = self.matrix[book_id-1]\n",
    "        similarities_to_book = cosine_similarity([book_row],self.matrix)[0]\n",
    "        return similarities_to_book\n",
    "\n"
   ],
   "outputs": [],
   "metadata": {}
  },
  {
   "cell_type": "code",
   "execution_count": 53,
   "source": [
    "goodbooks_dataset_path = \"dataset/\"\n",
    "books = Books(goodbooks_dataset_path)\n",
    "tags = Tags(goodbooks_dataset_path)\n",
    "book_tags = BookTags(goodbooks_dataset_path)"
   ],
   "outputs": [],
   "metadata": {}
  },
  {
   "cell_type": "code",
   "execution_count": 54,
   "source": [
    "while True:\n",
    "    title = input(\"Title: \")\n",
    "    print(\"\")\n",
    "    matches = books.get_book_id_by_title(title)\n",
    "    [print(match.title,match.book_id-1) for match in matches.itertuples()]\n",
    "    print(\"\")\n",
    "    if input(\"Encontraste tu libro? (y/n)\") == \"y\":\n",
    "        print(\"\")\n",
    "        break"
   ],
   "outputs": [
    {
     "output_type": "stream",
     "name": "stdout",
     "text": [
      "\n",
      "Siddhartha 179\n",
      "\n",
      "\n"
     ]
    }
   ],
   "metadata": {}
  },
  {
   "cell_type": "code",
   "execution_count": 55,
   "source": [
    "book_id = int(input(\"Ingresa el id del libro:\"))\n",
    "print(\"\")\n",
    "book = books.objects.iloc[book_id]\n",
    "book_similarities = book_tags.get_book_similarities(book)\n",
    "print(\"Nuestro libro es\", book[\"title\"],\"...\")\n",
    "print(\"Los mas parecidos son:\\n\")\n",
    "[print(books.objects.iloc[i][\"title\"], \"-\", books.objects.iloc[i][\"authors\"], \"(\"+str(int(book_similarities[i]*100))+\"%)\") for i in book_similarities.argsort()[::-1][1:10]]"
   ],
   "outputs": [
    {
     "output_type": "stream",
     "name": "stdout",
     "text": [
      "\n",
      "Nuestro libro es Siddhartha ...\n",
      "Los mas parecidos son:\n",
      "\n",
      "Steppenwolf - Hermann Hesse, Basil Creighton (70%)\n",
      "All Quiet on the Western Front - Erich Maria Remarque, A.W. Wheen (69%)\n",
      "The Grapes of Wrath - John Steinbeck (66%)\n",
      "Crime and Punishment - Fyodor Dostoyevsky, David McDuff (66%)\n",
      "The Trial - Franz Kafka, Edwin Muir, Willa Muir, Max Brod (65%)\n",
      "The Stranger - Albert Camus, Matthew    Ward (65%)\n",
      "Demian. Die Geschichte von Emil Sinclairs Jugend - Hermann Hesse (64%)\n",
      "Candide - Voltaire (64%)\n",
      "The Sun Also Rises - Ernest Hemingway (64%)\n"
     ]
    },
    {
     "output_type": "execute_result",
     "data": {
      "text/plain": [
       "[None, None, None, None, None, None, None, None, None]"
      ]
     },
     "metadata": {},
     "execution_count": 55
    }
   ],
   "metadata": {}
  },
  {
   "cell_type": "code",
   "execution_count": null,
   "source": [],
   "outputs": [],
   "metadata": {}
  }
 ],
 "metadata": {
  "orig_nbformat": 4,
  "language_info": {
   "name": "python",
   "version": "3.8.10",
   "mimetype": "text/x-python",
   "codemirror_mode": {
    "name": "ipython",
    "version": 3
   },
   "pygments_lexer": "ipython3",
   "nbconvert_exporter": "python",
   "file_extension": ".py"
  },
  "kernelspec": {
   "name": "python3",
   "display_name": "Python 3.8.10 64-bit ('venv': venv)"
  },
  "interpreter": {
   "hash": "b1d5d5b14bba2f16f3ef7d9fedee2a5e6a6a3f6ea1e0f49d73b4cddd21a75e82"
  }
 },
 "nbformat": 4,
 "nbformat_minor": 2
}